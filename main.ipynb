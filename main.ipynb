{
 "cells": [
  {
   "cell_type": "code",
   "execution_count": 1,
   "metadata": {},
   "outputs": [],
   "source": [
    "import collections\n",
    "import os\n",
    "import pathlib\n",
    "import shlex\n",
    "import subprocess\n",
    "import re\n",
    "\n",
    "import h5py\n",
    "import matplotlib.pyplot as plt\n",
    "import numpy as np\n",
    "import psutil\n",
    "import sklearn.feature_selection\n",
    "import sklearn.ensemble\n",
    "import sklearn.impute\n",
    "import sklearn.linear_model\n",
    "import sklearn.svm\n",
    "import rich\n",
    "import rich.live\n",
    "import rich.markup\n",
    "import rich.table\n",
    "import lib_utils\n",
    "\n",
    "DATA_PATH = \"data/original.shuffled_and_split.h5\""
   ]
  },
  {
   "cell_type": "markdown",
   "metadata": {},
   "source": [
    "## System preoccupations.\n",
    "- Print SLURM env vars if we have them.\n",
    "- Check if we have enough memory."
   ]
  },
  {
   "cell_type": "code",
   "execution_count": 2,
   "metadata": {},
   "outputs": [
    {
     "data": {
      "text/html": [
       "<pre style=\"white-space:pre;overflow-x:auto;line-height:normal;font-family:Menlo,'DejaVu Sans Mono',consolas,'Courier New',monospace\"><span style=\"font-style: italic\">    Slurm Environment     </span>\n",
       "<span style=\"font-style: italic\">        Variables         </span>\n",
       "┏━━━━━━━━━━━━━━┳━━━━━━━━━┓\n",
       "┃<span style=\"font-weight: bold\"> Key          </span>┃<span style=\"font-weight: bold\"> Value   </span>┃\n",
       "┡━━━━━━━━━━━━━━╇━━━━━━━━━┩\n",
       "│ SLURM_JOB_ID │ 3456257 │\n",
       "└──────────────┴─────────┘\n",
       "</pre>\n"
      ],
      "text/plain": [
       "\u001b[3m    Slurm Environment     \u001b[0m\n",
       "\u001b[3m        Variables         \u001b[0m\n",
       "┏━━━━━━━━━━━━━━┳━━━━━━━━━┓\n",
       "┃\u001b[1m \u001b[0m\u001b[1mKey         \u001b[0m\u001b[1m \u001b[0m┃\u001b[1m \u001b[0m\u001b[1mValue  \u001b[0m\u001b[1m \u001b[0m┃\n",
       "┡━━━━━━━━━━━━━━╇━━━━━━━━━┩\n",
       "│ SLURM_JOB_ID │ 3456257 │\n",
       "└──────────────┴─────────┘\n"
      ]
     },
     "metadata": {},
     "output_type": "display_data"
    },
    {
     "data": {
      "text/html": [
       "<pre style=\"white-space:pre;overflow-x:auto;line-height:normal;font-family:Menlo,'DejaVu Sans Mono',consolas,'Courier New',monospace\"><span style=\"font-style: italic\">                                 Memory                                  </span>\n",
       "┏━━━━━━━━━━━━━━━━━━━━━━━━━━━━━━━━┳━━━━━━━━━━┳━━━━━━━━━┳━━━━━━━━━━━━━━━━━┓\n",
       "┃<span style=\"font-weight: bold\"> Method                         </span>┃<span style=\"font-weight: bold\"> Memory   </span>┃<span style=\"font-weight: bold\"> Warning </span>┃<span style=\"font-weight: bold\"> Warning Message </span>┃\n",
       "┡━━━━━━━━━━━━━━━━━━━━━━━━━━━━━━━━╇━━━━━━━━━━╇━━━━━━━━━╇━━━━━━━━━━━━━━━━━┩\n",
       "│ scontrol                       │ 188.0 GB │         │                 │\n",
       "│ psutil - Not reliable on SLURM │ 405.4 GB │         │                 │\n",
       "└────────────────────────────────┴──────────┴─────────┴─────────────────┘\n",
       "</pre>\n"
      ],
      "text/plain": [
       "\u001b[3m                                 Memory                                  \u001b[0m\n",
       "┏━━━━━━━━━━━━━━━━━━━━━━━━━━━━━━━━┳━━━━━━━━━━┳━━━━━━━━━┳━━━━━━━━━━━━━━━━━┓\n",
       "┃\u001b[1m \u001b[0m\u001b[1mMethod                        \u001b[0m\u001b[1m \u001b[0m┃\u001b[1m \u001b[0m\u001b[1mMemory  \u001b[0m\u001b[1m \u001b[0m┃\u001b[1m \u001b[0m\u001b[1mWarning\u001b[0m\u001b[1m \u001b[0m┃\u001b[1m \u001b[0m\u001b[1mWarning Message\u001b[0m\u001b[1m \u001b[0m┃\n",
       "┡━━━━━━━━━━━━━━━━━━━━━━━━━━━━━━━━╇━━━━━━━━━━╇━━━━━━━━━╇━━━━━━━━━━━━━━━━━┩\n",
       "│ scontrol                       │ 188.0 GB │         │                 │\n",
       "│ psutil - Not reliable on SLURM │ 405.4 GB │         │                 │\n",
       "└────────────────────────────────┴──────────┴─────────┴─────────────────┘\n"
      ]
     },
     "metadata": {},
     "output_type": "display_data"
    },
    {
     "data": {
      "text/html": [
       "<pre style=\"white-space:pre;overflow-x:auto;line-height:normal;font-family:Menlo,'DejaVu Sans Mono',consolas,'Courier New',monospace\"><span style=\"color: #008000; text-decoration-color: #008000; font-weight: bold\">There is enough memory ✅</span>\n",
       "</pre>\n"
      ],
      "text/plain": [
       "\u001b[1;32mThere is enough memory ✅\u001b[0m\n"
      ]
     },
     "metadata": {},
     "output_type": "display_data"
    }
   ],
   "source": [
    "\n",
    "# We can't always use the SLURM env variables, because they're\n",
    "# not available if we ssh-ed to the node instead of srun-ing, salloc-ing or sbatch-ing.\n",
    "# We still print the information if it's available, though.\n",
    "if \"SLURM_JOB_ID\" in os.environ:\n",
    "    table = rich.table.Table(\"Key\", \"Value\", title=\"Slurm Environment Variables\")\n",
    "    for key, value in os.environ.items():\n",
    "        if \"slurm\" in key.lower():\n",
    "            table.add_row(key, rich.markup.escape(value))\n",
    "    rich.print(table)\n",
    "\n",
    "\n",
    "file_size = os.path.getsize(DATA_PATH) \n",
    "dataset_size_str = f\"{file_size / 10 ** 9:0.4} GB\"\n",
    "min_memory = file_size + 2 * 10 ** 9\n",
    "\n",
    "if \"SLURM_JOB_ID\" in os.environ:\n",
    "    values = []\n",
    "    command = [f\"scontrol\", \"show\", \"job\", os.environ[\"SLURM_JOB_ID\"]]\n",
    "    scontrol = subprocess.check_output(command, \n",
    "        universal_newlines=True,\n",
    "    ).strip().split(\"\\n\")\n",
    "\n",
    "    lines = [line for line in scontrol if \"MinMemoryNode=\" in line]\n",
    "    assert len(lines), scontrol\n",
    "    pat = re.compile(r\"MinMemoryNode=(\\d+\\w)\")\n",
    "    for line in lines:\n",
    "        line = line.strip()\n",
    "        matches = filter(lambda x: x, [pat.match(x) for x in line.split(\" \")])\n",
    "        \n",
    "        for match in matches:\n",
    "            memory = match.groups()[0]\n",
    "            parsed = re.match(\"(\\d+)(\\D+)\", memory)\n",
    "            if parsed:\n",
    "                memory = int(parsed.groups()[0])\n",
    "                unit = parsed.groups()[1].upper()\n",
    "\n",
    "                if len(unit) == 2 and unit[1] == \"B\":\n",
    "                    unit = unit[0]\n",
    "                \n",
    "                if unit == \"K\":\n",
    "                    memory_parsed = memory * 10 ** 3\n",
    "                elif unit == \"M\":\n",
    "                    memory_parsed = memory * 10 ** 6\n",
    "                elif unit == \"G\":\n",
    "                    memory_parsed = memory * 10 ** 9\n",
    "                elif unit == \"T\":\n",
    "                    memory_parsed = memory * 10 ** 12\n",
    "                elif unit == \"P\":\n",
    "                    memory_parsed = memory * 10 ** 15\n",
    "                else:\n",
    "                    raise ValueError(f\"Unknown unit: {unit}\")\n",
    "            values.append(dict(method=\"scontrol\", memory_parsed=memory_parsed, memory_raw=f\"{memory}{unit}\"))\n",
    "\n",
    "values.append(dict(method=\"psutil - Not reliable on SLURM\", memory_parsed=psutil.virtual_memory().total, memory_raw=None))\n",
    "\n",
    "table = rich.table.Table(\"Method\", \"Memory\", \"Warning\", \"Warning Message\", title=\"Memory\")\n",
    "for value in values:    \n",
    "    table.add_row(\n",
    "        value[\"method\"], \n",
    "        f\"{value['memory_parsed'] / 10 ** 9:0.4} GB\", \n",
    "        \"\" if value[\"memory_parsed\"] >= min_memory else \"❌\", \n",
    "        f\"[red bold]The dataset is {dataset_size_str}. The system doesn't have enough memory to deal with that. [/red bold]\" if value[\"memory_parsed\"] < min_memory else \"\"\n",
    "    )\n",
    "\n",
    "rich.print(table)\n",
    "\n",
    "if any([value[\"memory_parsed\"] < min_memory for value in values]):\n",
    "    rich.print(\"[red bold]The dataset is too big for the system to handle. Please, use a system with more memory.[/red bold]\")\n",
    "else:\n",
    "    rich.print(\"[green bold]There is enough memory ✅[/green bold]\")"
   ]
  },
  {
   "cell_type": "markdown",
   "metadata": {},
   "source": [
    "# Deal with Missing Values\n",
    "Some features have data missing, represented by float(\"nan\") values in the vector.\n",
    "\n",
    "We first count how many dimensions of the 450k we have left if we exclude those where more than 10 patients are missing a value for that column.\n",
    "\n",
    "The original Horvath's clock uses a max of 10 values."
   ]
  },
  {
   "cell_type": "code",
   "execution_count": 3,
   "metadata": {},
   "outputs": [],
   "source": [
    "# Load the data. \n",
    "# The ; is necessary else the notebook will print out the entire contents of the data object.\n",
    "data = lib_utils.load_split_data(DATA_PATH)"
   ]
  },
  {
   "cell_type": "markdown",
   "metadata": {},
   "source": [
    "We plot the number of features kept as a function of maximum NaN values per patient for that feature."
   ]
  },
  {
   "cell_type": "code",
   "execution_count": 4,
   "metadata": {},
   "outputs": [
    {
     "data": {
      "text/plain": [
       "''"
      ]
     },
     "execution_count": 4,
     "metadata": {},
     "output_type": "execute_result"
    },
    {
     "data": {
      "image/png": "[encoded data removed]",
      "text/plain": [
       "<Figure size 640x480 with 1 Axes>"
      ]
     },
     "metadata": {},
     "output_type": "display_data"
    }
   ],
   "source": [
    "nan_counts_features = np.isnan(data[\"train\"][\"features\"]).sum(axis=0)\n",
    "\n",
    "plt.plot([(nan_counts_features <= i).sum() for i in range(10)])\n",
    "plt.title(\"Number of features with at most y NaNs, out of 450k total features\")\n",
    "plt.xlabel(\"Maximum number of NaNs per feature\")\n",
    "plt.ylabel(\"Total number of remaining features\")\n",
    ";"
   ]
  },
  {
   "cell_type": "markdown",
   "metadata": {},
   "source": [
    "Out of curiosity, we plot the amount of patients kept as a function of maximum feature missing values.\n",
    "\n",
    "The top 500 (1/14) patients have more than the 3/4th of their features missing."
   ]
  },
  {
   "cell_type": "code",
   "execution_count": 5,
   "metadata": {},
   "outputs": [
    {
     "data": {
      "text/plain": [
       "''"
      ]
     },
     "execution_count": 5,
     "metadata": {},
     "output_type": "execute_result"
    },
    {
     "data": {
      "image/png": "[encoded data removed]",
      "text/plain": [
       "<Figure size 640x480 with 1 Axes>"
      ]
     },
     "metadata": {},
     "output_type": "display_data"
    }
   ],
   "source": [
    "nan_counts_ppl = np.isnan(data[\"train\"][\"features\"]).sum(axis=1)\n",
    "plt.plot([(nan_counts_ppl <= i).sum() for i in range(nan_counts_ppl.max())])\n",
    ";"
   ]
  },
  {
   "cell_type": "code",
   "execution_count": 6,
   "metadata": {},
   "outputs": [],
   "source": [
    "################################################################# \n",
    "# Create a mask of features that have less than 10 missing values,\n",
    "# and remove them from the dataset, from all columns and splits.\n",
    "################################################################# \n",
    "feature_mask = (np.isnan(data[\"train\"][\"features\"]).sum(axis=0) < 10)\n",
    "print(f\"Final number of features: {feature_mask.sum()}\\n\")\n",
    "\n",
    "subset_data = collections.defaultdict(dict)\n",
    "\n",
    "table = rich.table.Table(\"Split\", \"Information type\", \"Initial shape\", \"Final shape\")\n",
    "with rich.live.Live(table, auto_refresh=False) as live:\n",
    "    for split, split_values in data.items():\n",
    "        for information_type, information_data in split_values.items():\n",
    "            initial_shape = information_data.shape\n",
    "            if information_type == \"features\":\n",
    "                subset_data[split][information_type] = information_data[:, feature_mask] \n",
    "            else:\n",
    "                subset_data[split][information_type] = information_data\n",
    "\n",
    "            table.add_row(split, information_type, f\"{initial_shape}\", f\"{subset_data[split][information_type].shape}\")\n",
    "            live.update(table, refresh=True)"
   ]
  },
  {
   "cell_type": "markdown",
   "metadata": {},
   "source": [
    "## Imputation\n",
    "We first try basic imputation, as there are very few missing values, and the amount of features is huge."
   ]
  },
  {
   "cell_type": "code",
   "execution_count": null,
   "metadata": {},
   "outputs": [
    {
     "name": "stdout",
     "output_type": "stream",
     "text": [
      "Training with imputer SimpleImputer() with strategy mean\n"
     ]
    },
    {
     "data": {
      "application/vnd.jupyter.widget-view+json": {
       "model_id": "c6252cdf7a0f4fffbbabfb5ec4819aa5",
       "version_major": 2,
       "version_minor": 0
      },
      "text/plain": [
       "Output()"
      ]
     },
     "metadata": {},
     "output_type": "display_data"
    },
    {
     "data": {
      "text/html": [
       "<pre style=\"white-space:pre;overflow-x:auto;line-height:normal;font-family:Menlo,'DejaVu Sans Mono',consolas,'Courier New',monospace\">Adding row\n",
       "</pre>\n"
      ],
      "text/plain": [
       "Adding row\n"
      ]
     },
     "metadata": {},
     "output_type": "display_data"
    },
    {
     "data": {
      "text/html": [
       "<pre style=\"white-space:pre;overflow-x:auto;line-height:normal;font-family:Menlo,'DejaVu Sans Mono',consolas,'Courier New',monospace\">Adding row\n",
       "</pre>\n"
      ],
      "text/plain": [
       "Adding row\n"
      ]
     },
     "metadata": {},
     "output_type": "display_data"
    },
    {
     "data": {
      "text/html": [
       "<pre style=\"white-space:pre;overflow-x:auto;line-height:normal;font-family:Menlo,'DejaVu Sans Mono',consolas,'Courier New',monospace\">Adding row\n",
       "</pre>\n"
      ],
      "text/plain": [
       "Adding row\n"
      ]
     },
     "metadata": {},
     "output_type": "display_data"
    },
    {
     "data": {
      "text/html": [
       "<pre style=\"white-space:pre;overflow-x:auto;line-height:normal;font-family:Menlo,'DejaVu Sans Mono',consolas,'Courier New',monospace\">Adding row\n",
       "</pre>\n"
      ],
      "text/plain": [
       "Adding row\n"
      ]
     },
     "metadata": {},
     "output_type": "display_data"
    },
    {
     "data": {
      "text/html": [
       "<pre style=\"white-space:pre;overflow-x:auto;line-height:normal;font-family:Menlo,'DejaVu Sans Mono',consolas,'Courier New',monospace\">Adding row\n",
       "</pre>\n"
      ],
      "text/plain": [
       "Adding row\n"
      ]
     },
     "metadata": {},
     "output_type": "display_data"
    },
    {
     "data": {
      "text/html": [
       "<pre style=\"white-space:pre;overflow-x:auto;line-height:normal;font-family:Menlo,'DejaVu Sans Mono',consolas,'Courier New',monospace\">Adding row\n",
       "</pre>\n"
      ],
      "text/plain": [
       "Adding row\n"
      ]
     },
     "metadata": {},
     "output_type": "display_data"
    },
    {
     "data": {
      "text/html": [
       "<pre style=\"white-space:pre;overflow-x:auto;line-height:normal;font-family:Menlo,'DejaVu Sans Mono',consolas,'Courier New',monospace\">Adding row\n",
       "</pre>\n"
      ],
      "text/plain": [
       "Adding row\n"
      ]
     },
     "metadata": {},
     "output_type": "display_data"
    },
    {
     "data": {
      "text/html": [
       "<pre style=\"white-space:pre;overflow-x:auto;line-height:normal;font-family:Menlo,'DejaVu Sans Mono',consolas,'Courier New',monospace\">Adding row\n",
       "</pre>\n"
      ],
      "text/plain": [
       "Adding row\n"
      ]
     },
     "metadata": {},
     "output_type": "display_data"
    },
    {
     "data": {
      "text/html": [
       "<pre style=\"white-space:pre;overflow-x:auto;line-height:normal;font-family:Menlo,'DejaVu Sans Mono',consolas,'Courier New',monospace\">Adding row\n",
       "</pre>\n"
      ],
      "text/plain": [
       "Adding row\n"
      ]
     },
     "metadata": {},
     "output_type": "display_data"
    },
    {
     "data": {
      "text/html": [
       "<pre style=\"white-space:pre;overflow-x:auto;line-height:normal;font-family:Menlo,'DejaVu Sans Mono',consolas,'Courier New',monospace\">Adding row\n",
       "</pre>\n"
      ],
      "text/plain": [
       "Adding row\n"
      ]
     },
     "metadata": {},
     "output_type": "display_data"
    },
    {
     "data": {
      "text/html": [
       "<pre style=\"white-space:pre;overflow-x:auto;line-height:normal;font-family:Menlo,'DejaVu Sans Mono',consolas,'Courier New',monospace\">Adding row\n",
       "</pre>\n"
      ],
      "text/plain": [
       "Adding row\n"
      ]
     },
     "metadata": {},
     "output_type": "display_data"
    },
    {
     "data": {
      "text/html": [
       "<pre style=\"white-space:pre;overflow-x:auto;line-height:normal;font-family:Menlo,'DejaVu Sans Mono',consolas,'Courier New',monospace\">Adding row\n",
       "</pre>\n"
      ],
      "text/plain": [
       "Adding row\n"
      ]
     },
     "metadata": {},
     "output_type": "display_data"
    },
    {
     "data": {
      "text/html": [
       "<pre style=\"white-space:pre;overflow-x:auto;line-height:normal;font-family:Menlo,'DejaVu Sans Mono',consolas,'Courier New',monospace\"></pre>\n"
      ],
      "text/plain": []
     },
     "metadata": {},
     "output_type": "display_data"
    },
    {
     "name": "stdout",
     "output_type": "stream",
     "text": [
      "imputed_subset_data['train']['features'].shape = (6699, 121099)\n"
     ]
    }
   ],
   "source": [
    "import importlib\n",
    "lib_utils = importlib.reload(lib_utils)\n",
    "\n",
    "# Imputation\n",
    "IMPUTATION_STRATEGY = \"mean\"\n",
    "imputer = sklearn.impute.SimpleImputer(strategy=IMPUTATION_STRATEGY)\n",
    "print(f\"Training with imputer {imputer} with strategy {IMPUTATION_STRATEGY}\")\n",
    "imputer.fit(subset_data[\"train\"][\"features\"])\n",
    "\n",
    "imputed_subset_data = collections.defaultdict(dict)\n",
    "with lib_utils.LiveTable(\"Split\", \"Information Type\", title=\"Imputating...\") as live_table:\n",
    "    for split, split_values in subset_data.items():\n",
    "        for information_type, information_data in split_values.items():\n",
    "            live_table.add_row(**{\"Split\": split, \"Information Type\": information_type})\n",
    "            \n",
    "            if information_type == \"features\":\n",
    "                imputed_subset_data[split][information_type] = imputer.transform(information_data)\n",
    "            else:\n",
    "                imputed_subset_data[split][information_type] = information_data\n",
    "            \n",
    "print(f\"{imputed_subset_data['train']['features'].shape = }\")\n"
   ]
  },
  {
   "cell_type": "markdown",
   "metadata": {},
   "source": [
    "## Normalization\n",
    "We normalize the data to mean zero and std 1.\n",
    "\n",
    "We use numpy's functions that are compatible with NaNs, \n",
    "in case if we decide to not imput the data. It just ignores the values."
   ]
  },
  {
   "cell_type": "code",
   "execution_count": null,
   "metadata": {},
   "outputs": [
    {
     "name": "stdout",
     "output_type": "stream",
     "text": [
      "mean.shape = (1, 121099)\n",
      "std.shape = (1, 121099)\n",
      "normalized_imputed_subset_data['train']['features'].shape = (6699, 121099)\n"
     ]
    }
   ],
   "source": [
    "# Normalization\n",
    "mean = np.nanmean(imputed_subset_data[\"train\"][\"features\"], axis=0, keepdims=True)\n",
    "std = np.nanstd(imputed_subset_data[\"train\"][\"features\"], axis=0, keepdims=True)\n",
    "print(f\"{mean.shape = }\")\n",
    "print(f\"{std.shape = }\")\n",
    "\n",
    "normalized_imputed_subset_data = collections.defaultdict(dict)\n",
    "for split, split_values in imputed_subset_data.items():\n",
    "    for information_type, information_data in split_values.items():\n",
    "        if information_type == \"features\":\n",
    "            normalized_imputed_subset_data[split][information_type] = (information_data - mean) / std\n",
    "        else:\n",
    "            normalized_imputed_subset_data[split][information_type] = information_data\n",
    "\n",
    "del imputed_subset_data\n",
    "print(f\"{normalized_imputed_subset_data['train']['features'].shape = }\")"
   ]
  },
  {
   "cell_type": "markdown",
   "metadata": {},
   "source": [
    "## Feature Selection\n",
    "We use the top K features that are the most absolutely correlated with the label.\n",
    "\n",
    "It would be interesting to prevent the model from learning negative weights, & removing values with negative correlations, & comparing with allowing negative correlations & weights."
   ]
  },
  {
   "cell_type": "code",
   "execution_count": null,
   "metadata": {},
   "outputs": [],
   "source": [
    "def feature_selection(n_features, normalized_imputed_subset_data):\n",
    "    \n",
    "    feature_selector = sklearn.feature_selection.SelectKBest(\n",
    "        sklearn.feature_selection.f_regression, \n",
    "        k=n_features\n",
    "    ).fit(\n",
    "        normalized_imputed_subset_data[\"train\"][\"features\"], \n",
    "        normalized_imputed_subset_data[\"train\"][\"age\"],\n",
    "    )\n",
    "\n",
    "    feature_selected_data = collections.defaultdict(dict)\n",
    "    for split, split_values in normalized_imputed_subset_data.items():\n",
    "        for information_type, information_data in split_values.items():\n",
    "            if information_type == \"features\":\n",
    "                feature_selected_data[split][information_type] = feature_selector.transform(information_data)\n",
    "            else:\n",
    "                feature_selected_data[split][information_type] = information_data\n",
    "            \n",
    "    return feature_selected_data"
   ]
  },
  {
   "cell_type": "code",
   "execution_count": null,
   "metadata": {},
   "outputs": [],
   "source": [
    "import importlib\n",
    "lib_utils = importlib.reload(lib_utils)\n",
    "\n",
    "def evaluate(*, regressor, feature_selected_data, n_features, live_table, **kwargs):\n",
    "    preds = regressor.predict(feature_selected_data[\"validation\"][\"features\"])\n",
    "    mae = sklearn.metrics.mean_absolute_error(preds, feature_selected_data['validation']['age'])\n",
    "    mse = sklearn.metrics.mean_squared_error(preds, feature_selected_data['validation']['age'])\n",
    "    medae = sklearn.metrics.median_absolute_error(preds, feature_selected_data['validation']['age'])\n",
    "\n",
    "    r2 = regressor.score(\n",
    "        feature_selected_data['validation']['features'], \n",
    "        feature_selected_data['validation']['age'],\n",
    "    )\n",
    "\n",
    "    if live_table is not None:\n",
    "        row_dict = dict(\n",
    "            r2=r2,\n",
    "            medae=medae,\n",
    "            mae=mae,\n",
    "            mse=mse,\n",
    "            n_features=n_features,\n",
    "            **kwargs\n",
    "        )\n",
    "        row_dict = {k: str(v) for k, v in row_dict.items()}\n",
    "        live_table.add_row(**row_dict)\n",
    "    else:\n",
    "        print(\n",
    "            f\"### Metrics ### \" + \n",
    "            f\"{r2 = :.2f} # \" +  \n",
    "            f\"{medae = :0.2f} # \" +\n",
    "            f\"{mae = :.2f} # \" +\n",
    "            f\"{mse = :.2f}\" + \n",
    "            f\"\\n### HyperParams ### {n_features = } # \" +\n",
    "            \" # \".join(f\"{k} = {v}\" for k, v in kwargs.items())\n",
    "        )\n",
    "\n",
    "    return dict(r2=r2, medae=medae, mae=mae, mse=mse)\n",
    "\n",
    "\n",
    "def train_predict_evaluate(feature_selected_data, n_features, alpha, l1_ratio, live_table, max_iter=10000):\n",
    "    if alpha == 0:\n",
    "        regressor = sklearn.linear_model.LinearRegression(\n",
    "        )\n",
    "    elif l1_ratio == 0:\n",
    "        regressor = sklearn.linear_model.Ridge(\n",
    "            alpha=alpha,\n",
    "            max_iter=max_iter,\n",
    "        )\n",
    "    elif l1_ratio == 1:\n",
    "        regressor = sklearn.linear_model.Lasso(\n",
    "            alpha=alpha,\n",
    "            max_iter=max_iter,\n",
    "        )\n",
    "    else:\n",
    "        regressor = sklearn.linear_model.ElasticNet(\n",
    "            alpha=alpha,\n",
    "            l1_ratio=l1_ratio,\n",
    "            max_iter=max_iter,\n",
    "        )\n",
    "\n",
    "    regressor.fit(\n",
    "        feature_selected_data[\"train\"][\"features\"], \n",
    "        feature_selected_data[\"train\"][\"age\"],\n",
    "    )\n",
    "\n",
    "    evaluate(\n",
    "        regressor=regressor,\n",
    "        feature_selected_data=feature_selected_data,\n",
    "        n_features=n_features,\n",
    "        alpha=alpha,\n",
    "        l1_ratio=l1_ratio,\n",
    "        max_iter=max_iter,\n",
    "        live_table=live_table,\n",
    "    )\n",
    "\n",
    "    return regressor\n",
    "\n",
    "def train_histogram_gradient_boosting(feature_selected_data, n_features, learning_rate, max_iter, max_leaf_nodes, live_table=None):\n",
    "    regressor = sklearn.ensemble.HistGradientBoostingRegressor(\n",
    "        learning_rate=learning_rate,\n",
    "        max_iter=max_iter,\n",
    "        max_leaf_nodes=max_leaf_nodes,\n",
    "    )\n",
    "\n",
    "    regressor.fit(\n",
    "        feature_selected_data[\"train\"][\"features\"], \n",
    "        feature_selected_data[\"train\"][\"age\"],\n",
    "    )\n",
    "\n",
    "    evaluate(\n",
    "        regressor=regressor,\n",
    "        feature_selected_data=feature_selected_data,\n",
    "        n_features=n_features,\n",
    "        learning_rate=learning_rate,\n",
    "        max_iter=max_iter,\n",
    "        max_leaf_nodes=max_leaf_nodes,\n",
    "        live_table=live_table,\n",
    "    )\n",
    "\n",
    "    return regressor\n",
    "\n",
    "\n",
    "def train_svm(feature_selected_data, n_features, kernel, degree, C, live_table=None):\n",
    "\n",
    "    regressor = sklearn.svm.SVR(kernel=kernel, degree=degree, C=C)\n",
    "\n",
    "    regressor.fit(\n",
    "        feature_selected_data[\"train\"][\"features\"], \n",
    "        feature_selected_data[\"train\"][\"age\"],\n",
    "    )\n",
    "        \n",
    "    evaluate(\n",
    "        regressor=regressor,\n",
    "        feature_selected_data=feature_selected_data,\n",
    "        n_features=n_features,\n",
    "        kernel=kernel,\n",
    "        degree=degree,\n",
    "        C=C,\n",
    "        live_table=live_table,\n",
    "    )\n",
    "\n",
    "    return regressor\n",
    "\n"
   ]
  },
  {
   "cell_type": "code",
   "execution_count": null,
   "metadata": {},
   "outputs": [
    {
     "data": {
      "application/vnd.jupyter.widget-view+json": {
       "model_id": "2b7acf90df2a47bda2a83ed1f94d420c",
       "version_major": 2,
       "version_minor": 0
      },
      "text/plain": [
       "Output()"
      ]
     },
     "metadata": {},
     "output_type": "display_data"
    },
    {
     "data": {
      "text/html": [
       "<pre style=\"white-space:pre;overflow-x:auto;line-height:normal;font-family:Menlo,'DejaVu Sans Mono',consolas,'Courier New',monospace\">Adding row\n",
       "</pre>\n"
      ],
      "text/plain": [
       "Adding row\n"
      ]
     },
     "metadata": {},
     "output_type": "display_data"
    },
    {
     "data": {
      "text/html": [
       "<pre style=\"white-space:pre;overflow-x:auto;line-height:normal;font-family:Menlo,'DejaVu Sans Mono',consolas,'Courier New',monospace\">Adding row\n",
       "</pre>\n"
      ],
      "text/plain": [
       "Adding row\n"
      ]
     },
     "metadata": {},
     "output_type": "display_data"
    },
    {
     "data": {
      "text/html": [
       "<pre style=\"white-space:pre;overflow-x:auto;line-height:normal;font-family:Menlo,'DejaVu Sans Mono',consolas,'Courier New',monospace\">Adding row\n",
       "</pre>\n"
      ],
      "text/plain": [
       "Adding row\n"
      ]
     },
     "metadata": {},
     "output_type": "display_data"
    },
    {
     "data": {
      "text/html": [
       "<pre style=\"white-space:pre;overflow-x:auto;line-height:normal;font-family:Menlo,'DejaVu Sans Mono',consolas,'Courier New',monospace\">Adding row\n",
       "</pre>\n"
      ],
      "text/plain": [
       "Adding row\n"
      ]
     },
     "metadata": {},
     "output_type": "display_data"
    },
    {
     "data": {
      "text/html": [
       "<pre style=\"white-space:pre;overflow-x:auto;line-height:normal;font-family:Menlo,'DejaVu Sans Mono',consolas,'Courier New',monospace\">Adding row\n",
       "</pre>\n"
      ],
      "text/plain": [
       "Adding row\n"
      ]
     },
     "metadata": {},
     "output_type": "display_data"
    },
    {
     "data": {
      "text/html": [
       "<pre style=\"white-space:pre;overflow-x:auto;line-height:normal;font-family:Menlo,'DejaVu Sans Mono',consolas,'Courier New',monospace\">Adding row\n",
       "</pre>\n"
      ],
      "text/plain": [
       "Adding row\n"
      ]
     },
     "metadata": {},
     "output_type": "display_data"
    },
    {
     "data": {
      "text/html": [
       "<pre style=\"white-space:pre;overflow-x:auto;line-height:normal;font-family:Menlo,'DejaVu Sans Mono',consolas,'Courier New',monospace\">Adding row\n",
       "</pre>\n"
      ],
      "text/plain": [
       "Adding row\n"
      ]
     },
     "metadata": {},
     "output_type": "display_data"
    },
    {
     "data": {
      "text/html": [
       "<pre style=\"white-space:pre;overflow-x:auto;line-height:normal;font-family:Menlo,'DejaVu Sans Mono',consolas,'Courier New',monospace\">Adding row\n",
       "</pre>\n"
      ],
      "text/plain": [
       "Adding row\n"
      ]
     },
     "metadata": {},
     "output_type": "display_data"
    },
    {
     "data": {
      "text/html": [
       "<pre style=\"white-space:pre;overflow-x:auto;line-height:normal;font-family:Menlo,'DejaVu Sans Mono',consolas,'Courier New',monospace\">Adding row\n",
       "</pre>\n"
      ],
      "text/plain": [
       "Adding row\n"
      ]
     },
     "metadata": {},
     "output_type": "display_data"
    },
    {
     "data": {
      "text/html": [
       "<pre style=\"white-space:pre;overflow-x:auto;line-height:normal;font-family:Menlo,'DejaVu Sans Mono',consolas,'Courier New',monospace\">Adding row\n",
       "</pre>\n"
      ],
      "text/plain": [
       "Adding row\n"
      ]
     },
     "metadata": {},
     "output_type": "display_data"
    },
    {
     "data": {
      "text/html": [
       "<pre style=\"white-space:pre;overflow-x:auto;line-height:normal;font-family:Menlo,'DejaVu Sans Mono',consolas,'Courier New',monospace\">Adding row\n",
       "</pre>\n"
      ],
      "text/plain": [
       "Adding row\n"
      ]
     },
     "metadata": {},
     "output_type": "display_data"
    },
    {
     "data": {
      "text/html": [
       "<pre style=\"white-space:pre;overflow-x:auto;line-height:normal;font-family:Menlo,'DejaVu Sans Mono',consolas,'Courier New',monospace\">Adding row\n",
       "</pre>\n"
      ],
      "text/plain": [
       "Adding row\n"
      ]
     },
     "metadata": {},
     "output_type": "display_data"
    },
    {
     "data": {
      "text/html": [
       "<pre style=\"white-space:pre;overflow-x:auto;line-height:normal;font-family:Menlo,'DejaVu Sans Mono',consolas,'Courier New',monospace\">Adding row\n",
       "</pre>\n"
      ],
      "text/plain": [
       "Adding row\n"
      ]
     },
     "metadata": {},
     "output_type": "display_data"
    },
    {
     "data": {
      "text/html": [
       "<pre style=\"white-space:pre;overflow-x:auto;line-height:normal;font-family:Menlo,'DejaVu Sans Mono',consolas,'Courier New',monospace\">Adding row\n",
       "</pre>\n"
      ],
      "text/plain": [
       "Adding row\n"
      ]
     },
     "metadata": {},
     "output_type": "display_data"
    },
    {
     "data": {
      "text/html": [
       "<pre style=\"white-space:pre;overflow-x:auto;line-height:normal;font-family:Menlo,'DejaVu Sans Mono',consolas,'Courier New',monospace\">Adding row\n",
       "</pre>\n"
      ],
      "text/plain": [
       "Adding row\n"
      ]
     },
     "metadata": {},
     "output_type": "display_data"
    },
    {
     "data": {
      "text/html": [
       "<pre style=\"white-space:pre;overflow-x:auto;line-height:normal;font-family:Menlo,'DejaVu Sans Mono',consolas,'Courier New',monospace\">Adding row\n",
       "</pre>\n"
      ],
      "text/plain": [
       "Adding row\n"
      ]
     },
     "metadata": {},
     "output_type": "display_data"
    },
    {
     "data": {
      "text/html": [
       "<pre style=\"white-space:pre;overflow-x:auto;line-height:normal;font-family:Menlo,'DejaVu Sans Mono',consolas,'Courier New',monospace\">Adding row\n",
       "</pre>\n"
      ],
      "text/plain": [
       "Adding row\n"
      ]
     },
     "metadata": {},
     "output_type": "display_data"
    },
    {
     "data": {
      "text/html": [
       "<pre style=\"white-space:pre;overflow-x:auto;line-height:normal;font-family:Menlo,'DejaVu Sans Mono',consolas,'Courier New',monospace\">Adding row\n",
       "</pre>\n"
      ],
      "text/plain": [
       "Adding row\n"
      ]
     },
     "metadata": {},
     "output_type": "display_data"
    },
    {
     "data": {
      "text/html": [
       "<pre style=\"white-space:pre;overflow-x:auto;line-height:normal;font-family:Menlo,'DejaVu Sans Mono',consolas,'Courier New',monospace\">Adding row\n",
       "</pre>\n"
      ],
      "text/plain": [
       "Adding row\n"
      ]
     },
     "metadata": {},
     "output_type": "display_data"
    },
    {
     "data": {
      "text/html": [
       "<pre style=\"white-space:pre;overflow-x:auto;line-height:normal;font-family:Menlo,'DejaVu Sans Mono',consolas,'Courier New',monospace\">Adding row\n",
       "</pre>\n"
      ],
      "text/plain": [
       "Adding row\n"
      ]
     },
     "metadata": {},
     "output_type": "display_data"
    },
    {
     "data": {
      "text/html": [
       "<pre style=\"white-space:pre;overflow-x:auto;line-height:normal;font-family:Menlo,'DejaVu Sans Mono',consolas,'Courier New',monospace\">Adding row\n",
       "</pre>\n"
      ],
      "text/plain": [
       "Adding row\n"
      ]
     },
     "metadata": {},
     "output_type": "display_data"
    },
    {
     "data": {
      "text/html": [
       "<pre style=\"white-space:pre;overflow-x:auto;line-height:normal;font-family:Menlo,'DejaVu Sans Mono',consolas,'Courier New',monospace\">Adding row\n",
       "</pre>\n"
      ],
      "text/plain": [
       "Adding row\n"
      ]
     },
     "metadata": {},
     "output_type": "display_data"
    },
    {
     "data": {
      "text/html": [
       "<pre style=\"white-space:pre;overflow-x:auto;line-height:normal;font-family:Menlo,'DejaVu Sans Mono',consolas,'Courier New',monospace\">Adding row\n",
       "</pre>\n"
      ],
      "text/plain": [
       "Adding row\n"
      ]
     },
     "metadata": {},
     "output_type": "display_data"
    },
    {
     "data": {
      "text/html": [
       "<pre style=\"white-space:pre;overflow-x:auto;line-height:normal;font-family:Menlo,'DejaVu Sans Mono',consolas,'Courier New',monospace\">Adding row\n",
       "</pre>\n"
      ],
      "text/plain": [
       "Adding row\n"
      ]
     },
     "metadata": {},
     "output_type": "display_data"
    },
    {
     "data": {
      "text/html": [
       "<pre style=\"white-space:pre;overflow-x:auto;line-height:normal;font-family:Menlo,'DejaVu Sans Mono',consolas,'Courier New',monospace\">Adding row\n",
       "</pre>\n"
      ],
      "text/plain": [
       "Adding row\n"
      ]
     },
     "metadata": {},
     "output_type": "display_data"
    },
    {
     "data": {
      "text/html": [
       "<pre style=\"white-space:pre;overflow-x:auto;line-height:normal;font-family:Menlo,'DejaVu Sans Mono',consolas,'Courier New',monospace\">Adding row\n",
       "</pre>\n"
      ],
      "text/plain": [
       "Adding row\n"
      ]
     },
     "metadata": {},
     "output_type": "display_data"
    },
    {
     "data": {
      "text/html": [
       "<pre style=\"white-space:pre;overflow-x:auto;line-height:normal;font-family:Menlo,'DejaVu Sans Mono',consolas,'Courier New',monospace\">Adding row\n",
       "</pre>\n"
      ],
      "text/plain": [
       "Adding row\n"
      ]
     },
     "metadata": {},
     "output_type": "display_data"
    },
    {
     "data": {
      "text/html": [
       "<pre style=\"white-space:pre;overflow-x:auto;line-height:normal;font-family:Menlo,'DejaVu Sans Mono',consolas,'Courier New',monospace\">Adding row\n",
       "</pre>\n"
      ],
      "text/plain": [
       "Adding row\n"
      ]
     },
     "metadata": {},
     "output_type": "display_data"
    },
    {
     "data": {
      "text/html": [
       "<pre style=\"white-space:pre;overflow-x:auto;line-height:normal;font-family:Menlo,'DejaVu Sans Mono',consolas,'Courier New',monospace\">Adding row\n",
       "</pre>\n"
      ],
      "text/plain": [
       "Adding row\n"
      ]
     },
     "metadata": {},
     "output_type": "display_data"
    },
    {
     "data": {
      "text/html": [
       "<pre style=\"white-space:pre;overflow-x:auto;line-height:normal;font-family:Menlo,'DejaVu Sans Mono',consolas,'Courier New',monospace\">Adding row\n",
       "</pre>\n"
      ],
      "text/plain": [
       "Adding row\n"
      ]
     },
     "metadata": {},
     "output_type": "display_data"
    },
    {
     "data": {
      "text/html": [
       "<pre style=\"white-space:pre;overflow-x:auto;line-height:normal;font-family:Menlo,'DejaVu Sans Mono',consolas,'Courier New',monospace\">Adding row\n",
       "</pre>\n"
      ],
      "text/plain": [
       "Adding row\n"
      ]
     },
     "metadata": {},
     "output_type": "display_data"
    },
    {
     "data": {
      "text/html": [
       "<pre style=\"white-space:pre;overflow-x:auto;line-height:normal;font-family:Menlo,'DejaVu Sans Mono',consolas,'Courier New',monospace\">Adding row\n",
       "</pre>\n"
      ],
      "text/plain": [
       "Adding row\n"
      ]
     },
     "metadata": {},
     "output_type": "display_data"
    },
    {
     "data": {
      "text/html": [
       "<pre style=\"white-space:pre;overflow-x:auto;line-height:normal;font-family:Menlo,'DejaVu Sans Mono',consolas,'Courier New',monospace\">Adding row\n",
       "</pre>\n"
      ],
      "text/plain": [
       "Adding row\n"
      ]
     },
     "metadata": {},
     "output_type": "display_data"
    },
    {
     "data": {
      "text/html": [
       "<pre style=\"white-space:pre;overflow-x:auto;line-height:normal;font-family:Menlo,'DejaVu Sans Mono',consolas,'Courier New',monospace\">Adding row\n",
       "</pre>\n"
      ],
      "text/plain": [
       "Adding row\n"
      ]
     },
     "metadata": {},
     "output_type": "display_data"
    },
    {
     "data": {
      "text/html": [
       "<pre style=\"white-space:pre;overflow-x:auto;line-height:normal;font-family:Menlo,'DejaVu Sans Mono',consolas,'Courier New',monospace\">Adding row\n",
       "</pre>\n"
      ],
      "text/plain": [
       "Adding row\n"
      ]
     },
     "metadata": {},
     "output_type": "display_data"
    },
    {
     "data": {
      "text/html": [
       "<pre style=\"white-space:pre;overflow-x:auto;line-height:normal;font-family:Menlo,'DejaVu Sans Mono',consolas,'Courier New',monospace\">Adding row\n",
       "</pre>\n"
      ],
      "text/plain": [
       "Adding row\n"
      ]
     },
     "metadata": {},
     "output_type": "display_data"
    },
    {
     "data": {
      "text/html": [
       "<pre style=\"white-space:pre;overflow-x:auto;line-height:normal;font-family:Menlo,'DejaVu Sans Mono',consolas,'Courier New',monospace\">Adding row\n",
       "</pre>\n"
      ],
      "text/plain": [
       "Adding row\n"
      ]
     },
     "metadata": {},
     "output_type": "display_data"
    },
    {
     "data": {
      "text/html": [
       "<pre style=\"white-space:pre;overflow-x:auto;line-height:normal;font-family:Menlo,'DejaVu Sans Mono',consolas,'Courier New',monospace\">Adding row\n",
       "</pre>\n"
      ],
      "text/plain": [
       "Adding row\n"
      ]
     },
     "metadata": {},
     "output_type": "display_data"
    },
    {
     "data": {
      "text/html": [
       "<pre style=\"white-space:pre;overflow-x:auto;line-height:normal;font-family:Menlo,'DejaVu Sans Mono',consolas,'Courier New',monospace\">Adding row\n",
       "</pre>\n"
      ],
      "text/plain": [
       "Adding row\n"
      ]
     },
     "metadata": {},
     "output_type": "display_data"
    },
    {
     "data": {
      "text/html": [
       "<pre style=\"white-space:pre;overflow-x:auto;line-height:normal;font-family:Menlo,'DejaVu Sans Mono',consolas,'Courier New',monospace\">Adding row\n",
       "</pre>\n"
      ],
      "text/plain": [
       "Adding row\n"
      ]
     },
     "metadata": {},
     "output_type": "display_data"
    },
    {
     "data": {
      "text/html": [
       "<pre style=\"white-space:pre;overflow-x:auto;line-height:normal;font-family:Menlo,'DejaVu Sans Mono',consolas,'Courier New',monospace\">Adding row\n",
       "</pre>\n"
      ],
      "text/plain": [
       "Adding row\n"
      ]
     },
     "metadata": {},
     "output_type": "display_data"
    },
    {
     "data": {
      "text/html": [
       "<pre style=\"white-space:pre;overflow-x:auto;line-height:normal;font-family:Menlo,'DejaVu Sans Mono',consolas,'Courier New',monospace\">Adding row\n",
       "</pre>\n"
      ],
      "text/plain": [
       "Adding row\n"
      ]
     },
     "metadata": {},
     "output_type": "display_data"
    },
    {
     "data": {
      "text/html": [
       "<pre style=\"white-space:pre;overflow-x:auto;line-height:normal;font-family:Menlo,'DejaVu Sans Mono',consolas,'Courier New',monospace\">Adding row\n",
       "</pre>\n"
      ],
      "text/plain": [
       "Adding row\n"
      ]
     },
     "metadata": {},
     "output_type": "display_data"
    },
    {
     "data": {
      "text/html": [
       "<pre style=\"white-space:pre;overflow-x:auto;line-height:normal;font-family:Menlo,'DejaVu Sans Mono',consolas,'Courier New',monospace\">Adding row\n",
       "</pre>\n"
      ],
      "text/plain": [
       "Adding row\n"
      ]
     },
     "metadata": {},
     "output_type": "display_data"
    },
    {
     "data": {
      "text/html": [
       "<pre style=\"white-space:pre;overflow-x:auto;line-height:normal;font-family:Menlo,'DejaVu Sans Mono',consolas,'Courier New',monospace\">Adding row\n",
       "</pre>\n"
      ],
      "text/plain": [
       "Adding row\n"
      ]
     },
     "metadata": {},
     "output_type": "display_data"
    },
    {
     "data": {
      "text/html": [
       "<pre style=\"white-space:pre;overflow-x:auto;line-height:normal;font-family:Menlo,'DejaVu Sans Mono',consolas,'Courier New',monospace\">Adding row\n",
       "</pre>\n"
      ],
      "text/plain": [
       "Adding row\n"
      ]
     },
     "metadata": {},
     "output_type": "display_data"
    },
    {
     "data": {
      "text/html": [
       "<pre style=\"white-space:pre;overflow-x:auto;line-height:normal;font-family:Menlo,'DejaVu Sans Mono',consolas,'Courier New',monospace\">Adding row\n",
       "</pre>\n"
      ],
      "text/plain": [
       "Adding row\n"
      ]
     },
     "metadata": {},
     "output_type": "display_data"
    },
    {
     "data": {
      "text/html": [
       "<pre style=\"white-space:pre;overflow-x:auto;line-height:normal;font-family:Menlo,'DejaVu Sans Mono',consolas,'Courier New',monospace\">Adding row\n",
       "</pre>\n"
      ],
      "text/plain": [
       "Adding row\n"
      ]
     },
     "metadata": {},
     "output_type": "display_data"
    },
    {
     "data": {
      "text/html": [
       "<pre style=\"white-space:pre;overflow-x:auto;line-height:normal;font-family:Menlo,'DejaVu Sans Mono',consolas,'Courier New',monospace\">Adding row\n",
       "</pre>\n"
      ],
      "text/plain": [
       "Adding row\n"
      ]
     },
     "metadata": {},
     "output_type": "display_data"
    },
    {
     "data": {
      "text/html": [
       "<pre style=\"white-space:pre;overflow-x:auto;line-height:normal;font-family:Menlo,'DejaVu Sans Mono',consolas,'Courier New',monospace\">Adding row\n",
       "</pre>\n"
      ],
      "text/plain": [
       "Adding row\n"
      ]
     },
     "metadata": {},
     "output_type": "display_data"
    },
    {
     "data": {
      "text/html": [
       "<pre style=\"white-space:pre;overflow-x:auto;line-height:normal;font-family:Menlo,'DejaVu Sans Mono',consolas,'Courier New',monospace\">Adding row\n",
       "</pre>\n"
      ],
      "text/plain": [
       "Adding row\n"
      ]
     },
     "metadata": {},
     "output_type": "display_data"
    },
    {
     "data": {
      "text/html": [
       "<pre style=\"white-space:pre;overflow-x:auto;line-height:normal;font-family:Menlo,'DejaVu Sans Mono',consolas,'Courier New',monospace\">Adding row\n",
       "</pre>\n"
      ],
      "text/plain": [
       "Adding row\n"
      ]
     },
     "metadata": {},
     "output_type": "display_data"
    },
    {
     "data": {
      "text/html": [
       "<pre style=\"white-space:pre;overflow-x:auto;line-height:normal;font-family:Menlo,'DejaVu Sans Mono',consolas,'Courier New',monospace\">Adding row\n",
       "</pre>\n"
      ],
      "text/plain": [
       "Adding row\n"
      ]
     },
     "metadata": {},
     "output_type": "display_data"
    },
    {
     "data": {
      "text/html": [
       "<pre style=\"white-space:pre;overflow-x:auto;line-height:normal;font-family:Menlo,'DejaVu Sans Mono',consolas,'Courier New',monospace\">Adding row\n",
       "</pre>\n"
      ],
      "text/plain": [
       "Adding row\n"
      ]
     },
     "metadata": {},
     "output_type": "display_data"
    },
    {
     "data": {
      "text/html": [
       "<pre style=\"white-space:pre;overflow-x:auto;line-height:normal;font-family:Menlo,'DejaVu Sans Mono',consolas,'Courier New',monospace\">Adding row\n",
       "</pre>\n"
      ],
      "text/plain": [
       "Adding row\n"
      ]
     },
     "metadata": {},
     "output_type": "display_data"
    },
    {
     "data": {
      "text/html": [
       "<pre style=\"white-space:pre;overflow-x:auto;line-height:normal;font-family:Menlo,'DejaVu Sans Mono',consolas,'Courier New',monospace\">Adding row\n",
       "</pre>\n"
      ],
      "text/plain": [
       "Adding row\n"
      ]
     },
     "metadata": {},
     "output_type": "display_data"
    },
    {
     "data": {
      "text/html": [
       "<pre style=\"white-space:pre;overflow-x:auto;line-height:normal;font-family:Menlo,'DejaVu Sans Mono',consolas,'Courier New',monospace\">Adding row\n",
       "</pre>\n"
      ],
      "text/plain": [
       "Adding row\n"
      ]
     },
     "metadata": {},
     "output_type": "display_data"
    },
    {
     "data": {
      "text/html": [
       "<pre style=\"white-space:pre;overflow-x:auto;line-height:normal;font-family:Menlo,'DejaVu Sans Mono',consolas,'Courier New',monospace\">Adding row\n",
       "</pre>\n"
      ],
      "text/plain": [
       "Adding row\n"
      ]
     },
     "metadata": {},
     "output_type": "display_data"
    },
    {
     "data": {
      "text/html": [
       "<pre style=\"white-space:pre;overflow-x:auto;line-height:normal;font-family:Menlo,'DejaVu Sans Mono',consolas,'Courier New',monospace\">Adding row\n",
       "</pre>\n"
      ],
      "text/plain": [
       "Adding row\n"
      ]
     },
     "metadata": {},
     "output_type": "display_data"
    },
    {
     "data": {
      "text/html": [
       "<pre style=\"white-space:pre;overflow-x:auto;line-height:normal;font-family:Menlo,'DejaVu Sans Mono',consolas,'Courier New',monospace\">Adding row\n",
       "</pre>\n"
      ],
      "text/plain": [
       "Adding row\n"
      ]
     },
     "metadata": {},
     "output_type": "display_data"
    },
    {
     "data": {
      "text/html": [
       "<pre style=\"white-space:pre;overflow-x:auto;line-height:normal;font-family:Menlo,'DejaVu Sans Mono',consolas,'Courier New',monospace\">Adding row\n",
       "</pre>\n"
      ],
      "text/plain": [
       "Adding row\n"
      ]
     },
     "metadata": {},
     "output_type": "display_data"
    },
    {
     "data": {
      "text/html": [
       "<pre style=\"white-space:pre;overflow-x:auto;line-height:normal;font-family:Menlo,'DejaVu Sans Mono',consolas,'Courier New',monospace\">Adding row\n",
       "</pre>\n"
      ],
      "text/plain": [
       "Adding row\n"
      ]
     },
     "metadata": {},
     "output_type": "display_data"
    },
    {
     "data": {
      "text/html": [
       "<pre style=\"white-space:pre;overflow-x:auto;line-height:normal;font-family:Menlo,'DejaVu Sans Mono',consolas,'Courier New',monospace\">Adding row\n",
       "</pre>\n"
      ],
      "text/plain": [
       "Adding row\n"
      ]
     },
     "metadata": {},
     "output_type": "display_data"
    },
    {
     "data": {
      "text/html": [
       "<pre style=\"white-space:pre;overflow-x:auto;line-height:normal;font-family:Menlo,'DejaVu Sans Mono',consolas,'Courier New',monospace\">Adding row\n",
       "</pre>\n"
      ],
      "text/plain": [
       "Adding row\n"
      ]
     },
     "metadata": {},
     "output_type": "display_data"
    },
    {
     "data": {
      "text/html": [
       "<pre style=\"white-space:pre;overflow-x:auto;line-height:normal;font-family:Menlo,'DejaVu Sans Mono',consolas,'Courier New',monospace\">Adding row\n",
       "</pre>\n"
      ],
      "text/plain": [
       "Adding row\n"
      ]
     },
     "metadata": {},
     "output_type": "display_data"
    },
    {
     "data": {
      "text/html": [
       "<pre style=\"white-space:pre;overflow-x:auto;line-height:normal;font-family:Menlo,'DejaVu Sans Mono',consolas,'Courier New',monospace\">Adding row\n",
       "</pre>\n"
      ],
      "text/plain": [
       "Adding row\n"
      ]
     },
     "metadata": {},
     "output_type": "display_data"
    },
    {
     "data": {
      "text/html": [
       "<pre style=\"white-space:pre;overflow-x:auto;line-height:normal;font-family:Menlo,'DejaVu Sans Mono',consolas,'Courier New',monospace\">Adding row\n",
       "</pre>\n"
      ],
      "text/plain": [
       "Adding row\n"
      ]
     },
     "metadata": {},
     "output_type": "display_data"
    },
    {
     "data": {
      "text/html": [
       "<pre style=\"white-space:pre;overflow-x:auto;line-height:normal;font-family:Menlo,'DejaVu Sans Mono',consolas,'Courier New',monospace\">Adding row\n",
       "</pre>\n"
      ],
      "text/plain": [
       "Adding row\n"
      ]
     },
     "metadata": {},
     "output_type": "display_data"
    },
    {
     "data": {
      "text/html": [
       "<pre style=\"white-space:pre;overflow-x:auto;line-height:normal;font-family:Menlo,'DejaVu Sans Mono',consolas,'Courier New',monospace\">Adding row\n",
       "</pre>\n"
      ],
      "text/plain": [
       "Adding row\n"
      ]
     },
     "metadata": {},
     "output_type": "display_data"
    },
    {
     "data": {
      "text/html": [
       "<pre style=\"white-space:pre;overflow-x:auto;line-height:normal;font-family:Menlo,'DejaVu Sans Mono',consolas,'Courier New',monospace\">Adding row\n",
       "</pre>\n"
      ],
      "text/plain": [
       "Adding row\n"
      ]
     },
     "metadata": {},
     "output_type": "display_data"
    },
    {
     "data": {
      "text/html": [
       "<pre style=\"white-space:pre;overflow-x:auto;line-height:normal;font-family:Menlo,'DejaVu Sans Mono',consolas,'Courier New',monospace\">Adding row\n",
       "</pre>\n"
      ],
      "text/plain": [
       "Adding row\n"
      ]
     },
     "metadata": {},
     "output_type": "display_data"
    },
    {
     "data": {
      "text/html": [
       "<pre style=\"white-space:pre;overflow-x:auto;line-height:normal;font-family:Menlo,'DejaVu Sans Mono',consolas,'Courier New',monospace\">Adding row\n",
       "</pre>\n"
      ],
      "text/plain": [
       "Adding row\n"
      ]
     },
     "metadata": {},
     "output_type": "display_data"
    },
    {
     "data": {
      "text/html": [
       "<pre style=\"white-space:pre;overflow-x:auto;line-height:normal;font-family:Menlo,'DejaVu Sans Mono',consolas,'Courier New',monospace\">Adding row\n",
       "</pre>\n"
      ],
      "text/plain": [
       "Adding row\n"
      ]
     },
     "metadata": {},
     "output_type": "display_data"
    },
    {
     "data": {
      "text/html": [
       "<pre style=\"white-space:pre;overflow-x:auto;line-height:normal;font-family:Menlo,'DejaVu Sans Mono',consolas,'Courier New',monospace\">Adding row\n",
       "</pre>\n"
      ],
      "text/plain": [
       "Adding row\n"
      ]
     },
     "metadata": {},
     "output_type": "display_data"
    },
    {
     "data": {
      "text/html": [
       "<pre style=\"white-space:pre;overflow-x:auto;line-height:normal;font-family:Menlo,'DejaVu Sans Mono',consolas,'Courier New',monospace\">Adding row\n",
       "</pre>\n"
      ],
      "text/plain": [
       "Adding row\n"
      ]
     },
     "metadata": {},
     "output_type": "display_data"
    },
    {
     "data": {
      "text/html": [
       "<pre style=\"white-space:pre;overflow-x:auto;line-height:normal;font-family:Menlo,'DejaVu Sans Mono',consolas,'Courier New',monospace\">Adding row\n",
       "</pre>\n"
      ],
      "text/plain": [
       "Adding row\n"
      ]
     },
     "metadata": {},
     "output_type": "display_data"
    },
    {
     "data": {
      "text/html": [
       "<pre style=\"white-space:pre;overflow-x:auto;line-height:normal;font-family:Menlo,'DejaVu Sans Mono',consolas,'Courier New',monospace\">Adding row\n",
       "</pre>\n"
      ],
      "text/plain": [
       "Adding row\n"
      ]
     },
     "metadata": {},
     "output_type": "display_data"
    },
    {
     "data": {
      "text/html": [
       "<pre style=\"white-space:pre;overflow-x:auto;line-height:normal;font-family:Menlo,'DejaVu Sans Mono',consolas,'Courier New',monospace\">Adding row\n",
       "</pre>\n"
      ],
      "text/plain": [
       "Adding row\n"
      ]
     },
     "metadata": {},
     "output_type": "display_data"
    },
    {
     "data": {
      "text/html": [
       "<pre style=\"white-space:pre;overflow-x:auto;line-height:normal;font-family:Menlo,'DejaVu Sans Mono',consolas,'Courier New',monospace\">Adding row\n",
       "</pre>\n"
      ],
      "text/plain": [
       "Adding row\n"
      ]
     },
     "metadata": {},
     "output_type": "display_data"
    },
    {
     "data": {
      "text/html": [
       "<pre style=\"white-space:pre;overflow-x:auto;line-height:normal;font-family:Menlo,'DejaVu Sans Mono',consolas,'Courier New',monospace\">Adding row\n",
       "</pre>\n"
      ],
      "text/plain": [
       "Adding row\n"
      ]
     },
     "metadata": {},
     "output_type": "display_data"
    },
    {
     "data": {
      "text/html": [
       "<pre style=\"white-space:pre;overflow-x:auto;line-height:normal;font-family:Menlo,'DejaVu Sans Mono',consolas,'Courier New',monospace\">Adding row\n",
       "</pre>\n"
      ],
      "text/plain": [
       "Adding row\n"
      ]
     },
     "metadata": {},
     "output_type": "display_data"
    },
    {
     "data": {
      "text/html": [
       "<pre style=\"white-space:pre;overflow-x:auto;line-height:normal;font-family:Menlo,'DejaVu Sans Mono',consolas,'Courier New',monospace\">Adding row\n",
       "</pre>\n"
      ],
      "text/plain": [
       "Adding row\n"
      ]
     },
     "metadata": {},
     "output_type": "display_data"
    },
    {
     "data": {
      "text/html": [
       "<pre style=\"white-space:pre;overflow-x:auto;line-height:normal;font-family:Menlo,'DejaVu Sans Mono',consolas,'Courier New',monospace\">Adding row\n",
       "</pre>\n"
      ],
      "text/plain": [
       "Adding row\n"
      ]
     },
     "metadata": {},
     "output_type": "display_data"
    },
    {
     "data": {
      "text/html": [
       "<pre style=\"white-space:pre;overflow-x:auto;line-height:normal;font-family:Menlo,'DejaVu Sans Mono',consolas,'Courier New',monospace\">Adding row\n",
       "</pre>\n"
      ],
      "text/plain": [
       "Adding row\n"
      ]
     },
     "metadata": {},
     "output_type": "display_data"
    },
    {
     "data": {
      "text/html": [
       "<pre style=\"white-space:pre;overflow-x:auto;line-height:normal;font-family:Menlo,'DejaVu Sans Mono',consolas,'Courier New',monospace\">Adding row\n",
       "</pre>\n"
      ],
      "text/plain": [
       "Adding row\n"
      ]
     },
     "metadata": {},
     "output_type": "display_data"
    },
    {
     "data": {
      "text/html": [
       "<pre style=\"white-space:pre;overflow-x:auto;line-height:normal;font-family:Menlo,'DejaVu Sans Mono',consolas,'Courier New',monospace\">Adding row\n",
       "</pre>\n"
      ],
      "text/plain": [
       "Adding row\n"
      ]
     },
     "metadata": {},
     "output_type": "display_data"
    },
    {
     "data": {
      "text/html": [
       "<pre style=\"white-space:pre;overflow-x:auto;line-height:normal;font-family:Menlo,'DejaVu Sans Mono',consolas,'Courier New',monospace\">Adding row\n",
       "</pre>\n"
      ],
      "text/plain": [
       "Adding row\n"
      ]
     },
     "metadata": {},
     "output_type": "display_data"
    },
    {
     "data": {
      "text/html": [
       "<pre style=\"white-space:pre;overflow-x:auto;line-height:normal;font-family:Menlo,'DejaVu Sans Mono',consolas,'Courier New',monospace\">Adding row\n",
       "</pre>\n"
      ],
      "text/plain": [
       "Adding row\n"
      ]
     },
     "metadata": {},
     "output_type": "display_data"
    },
    {
     "data": {
      "text/html": [
       "<pre style=\"white-space:pre;overflow-x:auto;line-height:normal;font-family:Menlo,'DejaVu Sans Mono',consolas,'Courier New',monospace\">Adding row\n",
       "</pre>\n"
      ],
      "text/plain": [
       "Adding row\n"
      ]
     },
     "metadata": {},
     "output_type": "display_data"
    },
    {
     "data": {
      "text/html": [
       "<pre style=\"white-space:pre;overflow-x:auto;line-height:normal;font-family:Menlo,'DejaVu Sans Mono',consolas,'Courier New',monospace\">Adding row\n",
       "</pre>\n"
      ],
      "text/plain": [
       "Adding row\n"
      ]
     },
     "metadata": {},
     "output_type": "display_data"
    },
    {
     "data": {
      "text/html": [
       "<pre style=\"white-space:pre;overflow-x:auto;line-height:normal;font-family:Menlo,'DejaVu Sans Mono',consolas,'Courier New',monospace\">Adding row\n",
       "</pre>\n"
      ],
      "text/plain": [
       "Adding row\n"
      ]
     },
     "metadata": {},
     "output_type": "display_data"
    },
    {
     "data": {
      "text/html": [
       "<pre style=\"white-space:pre;overflow-x:auto;line-height:normal;font-family:Menlo,'DejaVu Sans Mono',consolas,'Courier New',monospace\">Adding row\n",
       "</pre>\n"
      ],
      "text/plain": [
       "Adding row\n"
      ]
     },
     "metadata": {},
     "output_type": "display_data"
    },
    {
     "data": {
      "text/html": [
       "<pre style=\"white-space:pre;overflow-x:auto;line-height:normal;font-family:Menlo,'DejaVu Sans Mono',consolas,'Courier New',monospace\">Adding row\n",
       "</pre>\n"
      ],
      "text/plain": [
       "Adding row\n"
      ]
     },
     "metadata": {},
     "output_type": "display_data"
    },
    {
     "data": {
      "text/html": [
       "<pre style=\"white-space:pre;overflow-x:auto;line-height:normal;font-family:Menlo,'DejaVu Sans Mono',consolas,'Courier New',monospace\">Adding row\n",
       "</pre>\n"
      ],
      "text/plain": [
       "Adding row\n"
      ]
     },
     "metadata": {},
     "output_type": "display_data"
    },
    {
     "data": {
      "text/html": [
       "<pre style=\"white-space:pre;overflow-x:auto;line-height:normal;font-family:Menlo,'DejaVu Sans Mono',consolas,'Courier New',monospace\">Adding row\n",
       "</pre>\n"
      ],
      "text/plain": [
       "Adding row\n"
      ]
     },
     "metadata": {},
     "output_type": "display_data"
    },
    {
     "data": {
      "text/html": [
       "<pre style=\"white-space:pre;overflow-x:auto;line-height:normal;font-family:Menlo,'DejaVu Sans Mono',consolas,'Courier New',monospace\">Adding row\n",
       "</pre>\n"
      ],
      "text/plain": [
       "Adding row\n"
      ]
     },
     "metadata": {},
     "output_type": "display_data"
    },
    {
     "data": {
      "text/html": [
       "<pre style=\"white-space:pre;overflow-x:auto;line-height:normal;font-family:Menlo,'DejaVu Sans Mono',consolas,'Courier New',monospace\">Adding row\n",
       "</pre>\n"
      ],
      "text/plain": [
       "Adding row\n"
      ]
     },
     "metadata": {},
     "output_type": "display_data"
    },
    {
     "data": {
      "text/html": [
       "<pre style=\"white-space:pre;overflow-x:auto;line-height:normal;font-family:Menlo,'DejaVu Sans Mono',consolas,'Courier New',monospace\">Adding row\n",
       "</pre>\n"
      ],
      "text/plain": [
       "Adding row\n"
      ]
     },
     "metadata": {},
     "output_type": "display_data"
    },
    {
     "data": {
      "text/html": [
       "<pre style=\"white-space:pre;overflow-x:auto;line-height:normal;font-family:Menlo,'DejaVu Sans Mono',consolas,'Courier New',monospace\">Adding row\n",
       "</pre>\n"
      ],
      "text/plain": [
       "Adding row\n"
      ]
     },
     "metadata": {},
     "output_type": "display_data"
    },
    {
     "data": {
      "text/html": [
       "<pre style=\"white-space:pre;overflow-x:auto;line-height:normal;font-family:Menlo,'DejaVu Sans Mono',consolas,'Courier New',monospace\">Adding row\n",
       "</pre>\n"
      ],
      "text/plain": [
       "Adding row\n"
      ]
     },
     "metadata": {},
     "output_type": "display_data"
    },
    {
     "data": {
      "text/html": [
       "<pre style=\"white-space:pre;overflow-x:auto;line-height:normal;font-family:Menlo,'DejaVu Sans Mono',consolas,'Courier New',monospace\">Adding row\n",
       "</pre>\n"
      ],
      "text/plain": [
       "Adding row\n"
      ]
     },
     "metadata": {},
     "output_type": "display_data"
    },
    {
     "data": {
      "text/html": [
       "<pre style=\"white-space:pre;overflow-x:auto;line-height:normal;font-family:Menlo,'DejaVu Sans Mono',consolas,'Courier New',monospace\">Adding row\n",
       "</pre>\n"
      ],
      "text/plain": [
       "Adding row\n"
      ]
     },
     "metadata": {},
     "output_type": "display_data"
    },
    {
     "data": {
      "text/html": [
       "<pre style=\"white-space:pre;overflow-x:auto;line-height:normal;font-family:Menlo,'DejaVu Sans Mono',consolas,'Courier New',monospace\">Adding row\n",
       "</pre>\n"
      ],
      "text/plain": [
       "Adding row\n"
      ]
     },
     "metadata": {},
     "output_type": "display_data"
    },
    {
     "data": {
      "text/html": [
       "<pre style=\"white-space:pre;overflow-x:auto;line-height:normal;font-family:Menlo,'DejaVu Sans Mono',consolas,'Courier New',monospace\">Adding row\n",
       "</pre>\n"
      ],
      "text/plain": [
       "Adding row\n"
      ]
     },
     "metadata": {},
     "output_type": "display_data"
    },
    {
     "data": {
      "text/html": [
       "<pre style=\"white-space:pre;overflow-x:auto;line-height:normal;font-family:Menlo,'DejaVu Sans Mono',consolas,'Courier New',monospace\">Adding row\n",
       "</pre>\n"
      ],
      "text/plain": [
       "Adding row\n"
      ]
     },
     "metadata": {},
     "output_type": "display_data"
    },
    {
     "data": {
      "text/html": [
       "<pre style=\"white-space:pre;overflow-x:auto;line-height:normal;font-family:Menlo,'DejaVu Sans Mono',consolas,'Courier New',monospace\">Adding row\n",
       "</pre>\n"
      ],
      "text/plain": [
       "Adding row\n"
      ]
     },
     "metadata": {},
     "output_type": "display_data"
    },
    {
     "data": {
      "text/html": [
       "<pre style=\"white-space:pre;overflow-x:auto;line-height:normal;font-family:Menlo,'DejaVu Sans Mono',consolas,'Courier New',monospace\">Adding row\n",
       "</pre>\n"
      ],
      "text/plain": [
       "Adding row\n"
      ]
     },
     "metadata": {},
     "output_type": "display_data"
    },
    {
     "data": {
      "text/html": [
       "<pre style=\"white-space:pre;overflow-x:auto;line-height:normal;font-family:Menlo,'DejaVu Sans Mono',consolas,'Courier New',monospace\">Adding row\n",
       "</pre>\n"
      ],
      "text/plain": [
       "Adding row\n"
      ]
     },
     "metadata": {},
     "output_type": "display_data"
    },
    {
     "data": {
      "text/html": [
       "<pre style=\"white-space:pre;overflow-x:auto;line-height:normal;font-family:Menlo,'DejaVu Sans Mono',consolas,'Courier New',monospace\">Adding row\n",
       "</pre>\n"
      ],
      "text/plain": [
       "Adding row\n"
      ]
     },
     "metadata": {},
     "output_type": "display_data"
    },
    {
     "data": {
      "text/html": [
       "<pre style=\"white-space:pre;overflow-x:auto;line-height:normal;font-family:Menlo,'DejaVu Sans Mono',consolas,'Courier New',monospace\"></pre>\n"
      ],
      "text/plain": []
     },
     "metadata": {},
     "output_type": "display_data"
    },
    {
     "ename": "KeyboardInterrupt",
     "evalue": "",
     "output_type": "error",
     "traceback": [
      "\u001b[0;31m---------------------------------------------------------------------------\u001b[0m",
      "\u001b[0;31mKeyboardInterrupt\u001b[0m                         Traceback (most recent call last)",
      "Cell \u001b[0;32mIn[33], line 4\u001b[0m\n\u001b[1;32m      2\u001b[0m \u001b[39mfor\u001b[39;00m n_features_exp \u001b[39min\u001b[39;00m np\u001b[39m.\u001b[39mlinspace(\u001b[39m1\u001b[39m, \u001b[39m5\u001b[39m, \u001b[39m20\u001b[39m):\n\u001b[1;32m      3\u001b[0m     n_features \u001b[39m=\u001b[39m \u001b[39mint\u001b[39m(\u001b[39m10\u001b[39m \u001b[39m*\u001b[39m\u001b[39m*\u001b[39m n_features_exp)\n\u001b[0;32m----> 4\u001b[0m     feature_selected_data \u001b[39m=\u001b[39m feature_selection(n_features, normalized_imputed_subset_data)\n\u001b[1;32m      5\u001b[0m     \u001b[39mfor\u001b[39;00m alpha \u001b[39min\u001b[39;00m np\u001b[39m.\u001b[39mlinspace(\u001b[39m0\u001b[39m, \u001b[39m0.2\u001b[39m, \u001b[39m4\u001b[39m):\n\u001b[1;32m      6\u001b[0m         \u001b[39mfor\u001b[39;00m l1_ratio \u001b[39min\u001b[39;00m np\u001b[39m.\u001b[39mlinspace(\u001b[39m0\u001b[39m, \u001b[39m1\u001b[39m, (\u001b[39m5\u001b[39m \u001b[39mif\u001b[39;00m alpha \u001b[39m!=\u001b[39m \u001b[39m0\u001b[39m \u001b[39melse\u001b[39;00m \u001b[39m1\u001b[39m)):\n",
      "Cell \u001b[0;32mIn[11], line 3\u001b[0m, in \u001b[0;36mfeature_selection\u001b[0;34m(n_features, normalized_imputed_subset_data)\u001b[0m\n\u001b[1;32m      1\u001b[0m \u001b[39mdef\u001b[39;00m \u001b[39mfeature_selection\u001b[39m(n_features, normalized_imputed_subset_data):\n\u001b[0;32m----> 3\u001b[0m     feature_selector \u001b[39m=\u001b[39m sklearn\u001b[39m.\u001b[39;49mfeature_selection\u001b[39m.\u001b[39;49mSelectKBest(\n\u001b[1;32m      4\u001b[0m         sklearn\u001b[39m.\u001b[39;49mfeature_selection\u001b[39m.\u001b[39;49mf_regression, \n\u001b[1;32m      5\u001b[0m         k\u001b[39m=\u001b[39;49mn_features\n\u001b[1;32m      6\u001b[0m     )\u001b[39m.\u001b[39;49mfit(\n\u001b[1;32m      7\u001b[0m         normalized_imputed_subset_data[\u001b[39m\"\u001b[39;49m\u001b[39mtrain\u001b[39;49m\u001b[39m\"\u001b[39;49m][\u001b[39m\"\u001b[39;49m\u001b[39mfeatures\u001b[39;49m\u001b[39m\"\u001b[39;49m], \n\u001b[1;32m      8\u001b[0m         normalized_imputed_subset_data[\u001b[39m\"\u001b[39;49m\u001b[39mtrain\u001b[39;49m\u001b[39m\"\u001b[39;49m][\u001b[39m\"\u001b[39;49m\u001b[39mage\u001b[39;49m\u001b[39m\"\u001b[39;49m],\n\u001b[1;32m      9\u001b[0m     )\n\u001b[1;32m     11\u001b[0m     feature_selected_data \u001b[39m=\u001b[39m collections\u001b[39m.\u001b[39mdefaultdict(\u001b[39mdict\u001b[39m)\n\u001b[1;32m     12\u001b[0m     \u001b[39mfor\u001b[39;00m split, split_values \u001b[39min\u001b[39;00m normalized_imputed_subset_data\u001b[39m.\u001b[39mitems():\n",
      "File \u001b[0;32m~/.main/lib/python3.9/site-packages/sklearn/feature_selection/_univariate_selection.py:467\u001b[0m, in \u001b[0;36m_BaseFilter.fit\u001b[0;34m(self, X, y)\u001b[0m\n\u001b[1;32m    449\u001b[0m \u001b[39m\u001b[39m\u001b[39m\"\"\"Run score function on (X, y) and get the appropriate features.\u001b[39;00m\n\u001b[1;32m    450\u001b[0m \n\u001b[1;32m    451\u001b[0m \u001b[39mParameters\u001b[39;00m\n\u001b[0;32m   (...)\u001b[0m\n\u001b[1;32m    463\u001b[0m \u001b[39m    Returns the instance itself.\u001b[39;00m\n\u001b[1;32m    464\u001b[0m \u001b[39m\"\"\"\u001b[39;00m\n\u001b[1;32m    465\u001b[0m \u001b[39mself\u001b[39m\u001b[39m.\u001b[39m_validate_params()\n\u001b[0;32m--> 467\u001b[0m X, y \u001b[39m=\u001b[39m \u001b[39mself\u001b[39;49m\u001b[39m.\u001b[39;49m_validate_data(\n\u001b[1;32m    468\u001b[0m     X, y, accept_sparse\u001b[39m=\u001b[39;49m[\u001b[39m\"\u001b[39;49m\u001b[39mcsr\u001b[39;49m\u001b[39m\"\u001b[39;49m, \u001b[39m\"\u001b[39;49m\u001b[39mcsc\u001b[39;49m\u001b[39m\"\u001b[39;49m], multi_output\u001b[39m=\u001b[39;49m\u001b[39mTrue\u001b[39;49;00m\n\u001b[1;32m    469\u001b[0m )\n\u001b[1;32m    471\u001b[0m \u001b[39mself\u001b[39m\u001b[39m.\u001b[39m_check_params(X, y)\n\u001b[1;32m    472\u001b[0m score_func_ret \u001b[39m=\u001b[39m \u001b[39mself\u001b[39m\u001b[39m.\u001b[39mscore_func(X, y)\n",
      "File \u001b[0;32m~/.main/lib/python3.9/site-packages/sklearn/base.py:565\u001b[0m, in \u001b[0;36mBaseEstimator._validate_data\u001b[0;34m(self, X, y, reset, validate_separately, **check_params)\u001b[0m\n\u001b[1;32m    563\u001b[0m         y \u001b[39m=\u001b[39m check_array(y, input_name\u001b[39m=\u001b[39m\u001b[39m\"\u001b[39m\u001b[39my\u001b[39m\u001b[39m\"\u001b[39m, \u001b[39m*\u001b[39m\u001b[39m*\u001b[39mcheck_y_params)\n\u001b[1;32m    564\u001b[0m     \u001b[39melse\u001b[39;00m:\n\u001b[0;32m--> 565\u001b[0m         X, y \u001b[39m=\u001b[39m check_X_y(X, y, \u001b[39m*\u001b[39;49m\u001b[39m*\u001b[39;49mcheck_params)\n\u001b[1;32m    566\u001b[0m     out \u001b[39m=\u001b[39m X, y\n\u001b[1;32m    568\u001b[0m \u001b[39mif\u001b[39;00m \u001b[39mnot\u001b[39;00m no_val_X \u001b[39mand\u001b[39;00m check_params\u001b[39m.\u001b[39mget(\u001b[39m\"\u001b[39m\u001b[39mensure_2d\u001b[39m\u001b[39m\"\u001b[39m, \u001b[39mTrue\u001b[39;00m):\n",
      "File \u001b[0;32m~/.main/lib/python3.9/site-packages/sklearn/utils/validation.py:1106\u001b[0m, in \u001b[0;36mcheck_X_y\u001b[0;34m(X, y, accept_sparse, accept_large_sparse, dtype, order, copy, force_all_finite, ensure_2d, allow_nd, multi_output, ensure_min_samples, ensure_min_features, y_numeric, estimator)\u001b[0m\n\u001b[1;32m   1101\u001b[0m         estimator_name \u001b[39m=\u001b[39m _check_estimator_name(estimator)\n\u001b[1;32m   1102\u001b[0m     \u001b[39mraise\u001b[39;00m \u001b[39mValueError\u001b[39;00m(\n\u001b[1;32m   1103\u001b[0m         \u001b[39mf\u001b[39m\u001b[39m\"\u001b[39m\u001b[39m{\u001b[39;00mestimator_name\u001b[39m}\u001b[39;00m\u001b[39m requires y to be passed, but the target y is None\u001b[39m\u001b[39m\"\u001b[39m\n\u001b[1;32m   1104\u001b[0m     )\n\u001b[0;32m-> 1106\u001b[0m X \u001b[39m=\u001b[39m check_array(\n\u001b[1;32m   1107\u001b[0m     X,\n\u001b[1;32m   1108\u001b[0m     accept_sparse\u001b[39m=\u001b[39;49maccept_sparse,\n\u001b[1;32m   1109\u001b[0m     accept_large_sparse\u001b[39m=\u001b[39;49maccept_large_sparse,\n\u001b[1;32m   1110\u001b[0m     dtype\u001b[39m=\u001b[39;49mdtype,\n\u001b[1;32m   1111\u001b[0m     order\u001b[39m=\u001b[39;49morder,\n\u001b[1;32m   1112\u001b[0m     copy\u001b[39m=\u001b[39;49mcopy,\n\u001b[1;32m   1113\u001b[0m     force_all_finite\u001b[39m=\u001b[39;49mforce_all_finite,\n\u001b[1;32m   1114\u001b[0m     ensure_2d\u001b[39m=\u001b[39;49mensure_2d,\n\u001b[1;32m   1115\u001b[0m     allow_nd\u001b[39m=\u001b[39;49mallow_nd,\n\u001b[1;32m   1116\u001b[0m     ensure_min_samples\u001b[39m=\u001b[39;49mensure_min_samples,\n\u001b[1;32m   1117\u001b[0m     ensure_min_features\u001b[39m=\u001b[39;49mensure_min_features,\n\u001b[1;32m   1118\u001b[0m     estimator\u001b[39m=\u001b[39;49mestimator,\n\u001b[1;32m   1119\u001b[0m     input_name\u001b[39m=\u001b[39;49m\u001b[39m\"\u001b[39;49m\u001b[39mX\u001b[39;49m\u001b[39m\"\u001b[39;49m,\n\u001b[1;32m   1120\u001b[0m )\n\u001b[1;32m   1122\u001b[0m y \u001b[39m=\u001b[39m _check_y(y, multi_output\u001b[39m=\u001b[39mmulti_output, y_numeric\u001b[39m=\u001b[39my_numeric, estimator\u001b[39m=\u001b[39mestimator)\n\u001b[1;32m   1124\u001b[0m check_consistent_length(X, y)\n",
      "File \u001b[0;32m~/.main/lib/python3.9/site-packages/sklearn/utils/validation.py:921\u001b[0m, in \u001b[0;36mcheck_array\u001b[0;34m(array, accept_sparse, accept_large_sparse, dtype, order, copy, force_all_finite, ensure_2d, allow_nd, ensure_min_samples, ensure_min_features, estimator, input_name)\u001b[0m\n\u001b[1;32m    915\u001b[0m         \u001b[39mraise\u001b[39;00m \u001b[39mValueError\u001b[39;00m(\n\u001b[1;32m    916\u001b[0m             \u001b[39m\"\u001b[39m\u001b[39mFound array with dim \u001b[39m\u001b[39m%d\u001b[39;00m\u001b[39m. \u001b[39m\u001b[39m%s\u001b[39;00m\u001b[39m expected <= 2.\u001b[39m\u001b[39m\"\u001b[39m\n\u001b[1;32m    917\u001b[0m             \u001b[39m%\u001b[39m (array\u001b[39m.\u001b[39mndim, estimator_name)\n\u001b[1;32m    918\u001b[0m         )\n\u001b[1;32m    920\u001b[0m     \u001b[39mif\u001b[39;00m force_all_finite:\n\u001b[0;32m--> 921\u001b[0m         _assert_all_finite(\n\u001b[1;32m    922\u001b[0m             array,\n\u001b[1;32m    923\u001b[0m             input_name\u001b[39m=\u001b[39;49minput_name,\n\u001b[1;32m    924\u001b[0m             estimator_name\u001b[39m=\u001b[39;49mestimator_name,\n\u001b[1;32m    925\u001b[0m             allow_nan\u001b[39m=\u001b[39;49mforce_all_finite \u001b[39m==\u001b[39;49m \u001b[39m\"\u001b[39;49m\u001b[39mallow-nan\u001b[39;49m\u001b[39m\"\u001b[39;49m,\n\u001b[1;32m    926\u001b[0m         )\n\u001b[1;32m    928\u001b[0m \u001b[39mif\u001b[39;00m ensure_min_samples \u001b[39m>\u001b[39m \u001b[39m0\u001b[39m:\n\u001b[1;32m    929\u001b[0m     n_samples \u001b[39m=\u001b[39m _num_samples(array)\n",
      "File \u001b[0;32m~/.main/lib/python3.9/site-packages/sklearn/utils/validation.py:122\u001b[0m, in \u001b[0;36m_assert_all_finite\u001b[0;34m(X, allow_nan, msg_dtype, estimator_name, input_name)\u001b[0m\n\u001b[1;32m    117\u001b[0m \u001b[39m# First try an O(n) time, O(1) space solution for the common case that\u001b[39;00m\n\u001b[1;32m    118\u001b[0m \u001b[39m# everything is finite; fall back to O(n) space `np.isinf/isnan` or custom\u001b[39;00m\n\u001b[1;32m    119\u001b[0m \u001b[39m# Cython implementation to prevent false positives and provide a detailed\u001b[39;00m\n\u001b[1;32m    120\u001b[0m \u001b[39m# error message.\u001b[39;00m\n\u001b[1;32m    121\u001b[0m \u001b[39mwith\u001b[39;00m np\u001b[39m.\u001b[39merrstate(over\u001b[39m=\u001b[39m\u001b[39m\"\u001b[39m\u001b[39mignore\u001b[39m\u001b[39m\"\u001b[39m):\n\u001b[0;32m--> 122\u001b[0m     first_pass_isfinite \u001b[39m=\u001b[39m xp\u001b[39m.\u001b[39misfinite(xp\u001b[39m.\u001b[39;49msum(X))\n\u001b[1;32m    123\u001b[0m \u001b[39mif\u001b[39;00m first_pass_isfinite:\n\u001b[1;32m    124\u001b[0m     \u001b[39mreturn\u001b[39;00m\n",
      "File \u001b[0;32m<__array_function__ internals>:200\u001b[0m, in \u001b[0;36msum\u001b[0;34m(*args, **kwargs)\u001b[0m\n",
      "File \u001b[0;32m~/.main/lib/python3.9/site-packages/numpy/core/fromnumeric.py:2324\u001b[0m, in \u001b[0;36msum\u001b[0;34m(a, axis, dtype, out, keepdims, initial, where)\u001b[0m\n\u001b[1;32m   2321\u001b[0m         \u001b[39mreturn\u001b[39;00m out\n\u001b[1;32m   2322\u001b[0m     \u001b[39mreturn\u001b[39;00m res\n\u001b[0;32m-> 2324\u001b[0m \u001b[39mreturn\u001b[39;00m _wrapreduction(a, np\u001b[39m.\u001b[39;49madd, \u001b[39m'\u001b[39;49m\u001b[39msum\u001b[39;49m\u001b[39m'\u001b[39;49m, axis, dtype, out, keepdims\u001b[39m=\u001b[39;49mkeepdims,\n\u001b[1;32m   2325\u001b[0m                       initial\u001b[39m=\u001b[39;49minitial, where\u001b[39m=\u001b[39;49mwhere)\n",
      "File \u001b[0;32m~/.main/lib/python3.9/site-packages/numpy/core/fromnumeric.py:86\u001b[0m, in \u001b[0;36m_wrapreduction\u001b[0;34m(obj, ufunc, method, axis, dtype, out, **kwargs)\u001b[0m\n\u001b[1;32m     83\u001b[0m         \u001b[39melse\u001b[39;00m:\n\u001b[1;32m     84\u001b[0m             \u001b[39mreturn\u001b[39;00m reduction(axis\u001b[39m=\u001b[39maxis, out\u001b[39m=\u001b[39mout, \u001b[39m*\u001b[39m\u001b[39m*\u001b[39mpasskwargs)\n\u001b[0;32m---> 86\u001b[0m \u001b[39mreturn\u001b[39;00m ufunc\u001b[39m.\u001b[39;49mreduce(obj, axis, dtype, out, \u001b[39m*\u001b[39;49m\u001b[39m*\u001b[39;49mpasskwargs)\n",
      "\u001b[0;31mKeyboardInterrupt\u001b[0m: "
     ]
    }
   ],
   "source": [
    "with lib_utils.LiveTable(\"r2\", \"medae\", \"mae\", \"mse\", \"n_features\", \"alpha\", \"l1_ratio\", \"max_iter\", title=\"Big Table\") as live_table:\n",
    "    for n_features_exp in np.linspace(1, 5, 20):\n",
    "        n_features = int(10 ** n_features_exp)\n",
    "        feature_selected_data = feature_selection(n_features, normalized_imputed_subset_data)\n",
    "        for alpha in np.linspace(0, 0.2, 4):\n",
    "            for l1_ratio in np.linspace(0, 1, (5 if alpha != 0 else 1)):\n",
    "                estimator = train_predict_evaluate(\n",
    "                    feature_selected_data=feature_selected_data, \n",
    "                    live_table=live_table,\n",
    "                    alpha=alpha, \n",
    "                    l1_ratio=l1_ratio, \n",
    "                    n_features=n_features,\n",
    "                )\n",
    "                # if hasattr(estimator, \"coef_\"):\n",
    "                #     print(f\"Sparsity %: {np.isclose(estimator.coef_, 0).mean():0.0%} sparse\")\n",
    "                #     print(f\"Sparsity #: {len(estimator.coef_) - np.isclose(estimator.coef_, 0).sum()} / {len(estimator.coef_)}\")\n",
    "                #     print()\n"
   ]
  },
  {
   "cell_type": "code",
   "execution_count": null,
   "metadata": {},
   "outputs": [],
   "source": [
    "### Metrics ### r2 = 0.90 # medae = 3.85 # mae = 5.37 # mse = 58.08\n",
    "### HyperParams ### {n_features = } # alpha = 0.2 # l1_ratio = 1.0\n",
    "\n",
    "# n_features = 112 # alpha = 0.2 # l1_ratio = 1.0\n",
    "alpha = 0.2\n",
    "l1_ratio = 1.0\n",
    "n_features = 112\n",
    "feature_selected_data = feature_selection(n_features, normalized_imputed_subset_data)\n",
    "estimator = train_predict_evaluate(\n",
    "    feature_selected_data=feature_selected_data, \n",
    "    alpha=alpha, \n",
    "    l1_ratio=l1_ratio, \n",
    "    n_features=n_features\n",
    ")"
   ]
  },
  {
   "cell_type": "code",
   "execution_count": null,
   "metadata": {},
   "outputs": [],
   "source": [
    "\n",
    "alpha = 0.1\n",
    "l1_ratio = 0.6\n",
    "\n",
    "for i in np.linspace(1, 6, 20):\n",
    "    n_features = int(i ** 10)\n",
    "    feature_selected_data = feature_selection(n_features, normalized_imputed_subset_data)\n",
    "\n",
    "    for j in np.linspace(1, 3, 10):\n",
    "        max_leaf_nodes = 1 + int(j ** 10)    \n",
    "        estimator = train_histogram_gradient_boosting(\n",
    "            feature_selected_data, n_features, learning_rate=0.1, max_iter=100, max_leaf_nodes=max_leaf_nodes\n",
    "        )\n",
    "\n",
    "\n",
    "if hasattr(estimator, \"coef_\"):\n",
    "    print(f\"Sparsity %: {np.isclose(estimator.coef_, 0).mean():0.0%} sparse\")\n",
    "    print(f\"Sparsity #: {len(estimator.coef_) - np.isclose(estimator.coef_, 0).sum()} / {len(estimator.coef_)}\")\n",
    "\n"
   ]
  },
  {
   "cell_type": "code",
   "execution_count": null,
   "metadata": {},
   "outputs": [],
   "source": [
    "print(f\"Sparsity %: {np.isclose(estimator.coef_, 0).mean():0.0%} sparse\")\n",
    "print(f\"Sparsity #: {len(estimator.coef_) - np.isclose(estimator.coef_, 0).sum()} / {len(estimator.coef_)}\")"
   ]
  },
  {
   "cell_type": "code",
   "execution_count": null,
   "metadata": {},
   "outputs": [],
   "source": [
    "np.arange(1 - np.isclose(estimator.coef_, 0))"
   ]
  },
  {
   "cell_type": "code",
   "execution_count": null,
   "metadata": {},
   "outputs": [],
   "source": [
    "len(estimator.coef_) * (1 - .71)"
   ]
  },
  {
   "cell_type": "code",
   "execution_count": null,
   "metadata": {},
   "outputs": [],
   "source": []
  }
 ],
 "metadata": {
  "kernelspec": {
   "display_name": "Python 3",
   "language": "python",
   "name": "python3"
  },
  "language_info": {
   "codemirror_mode": {
    "name": "ipython",
    "version": 3
   },
   "file_extension": ".py",
   "mimetype": "text/x-python",
   "name": "python",
   "nbconvert_exporter": "python",
   "pygments_lexer": "ipython3",
   "version": "3.9.15"
  },
  "orig_nbformat": 4
 },
 "nbformat": 4,
 "nbformat_minor": 2
}
